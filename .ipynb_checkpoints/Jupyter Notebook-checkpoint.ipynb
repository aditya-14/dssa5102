{
 "cells": [
  {
   "cell_type": "code",
   "execution_count": 1,
   "metadata": {},
   "outputs": [
    {
     "name": "stdout",
     "output_type": "stream",
     "text": [
      "Yo there\n"
     ]
    }
   ],
   "source": [
    "print(\"Yo there\")"
   ]
  },
  {
   "cell_type": "code",
   "execution_count": 5,
   "metadata": {},
   "outputs": [
    {
     "name": "stdout",
     "output_type": "stream",
     "text": [
      "1\n",
      "2\n",
      "3\n",
      "4\n",
      "5\n",
      "6\n",
      "7\n",
      "8\n",
      "9\n"
     ]
    }
   ],
   "source": [
    "i=1;\n",
    "while i<10:\n",
    "    print(i)\n",
    "    i=i+1"
   ]
  },
  {
   "cell_type": "markdown",
   "metadata": {},
   "source": [
    "# Headline\n",
    "## Smaller Headline\n",
    "\n",
    "**Boop**\n",
    "\n",
    "Boop"
   ]
  },
  {
   "cell_type": "code",
   "execution_count": 1,
   "metadata": {},
   "outputs": [
    {
     "name": "stdout",
     "output_type": "stream",
     "text": [
      "Hi\n"
     ]
    }
   ],
   "source": [
    "print('Hi')"
   ]
  },
  {
   "cell_type": "code",
   "execution_count": 6,
   "metadata": {},
   "outputs": [
    {
     "name": "stdout",
     "output_type": "stream",
     "text": [
      "5\n",
      "6\n",
      "7\n",
      "8\n",
      "9\n"
     ]
    }
   ],
   "source": [
    "n=5;\n",
    "while n<10:\n",
    "    print(n);\n",
    "    n=n+1;"
   ]
  },
  {
   "cell_type": "code",
   "execution_count": 8,
   "metadata": {},
   "outputs": [],
   "source": [
    "import numpy as np"
   ]
  },
  {
   "cell_type": "code",
   "execution_count": 9,
   "metadata": {},
   "outputs": [],
   "source": [
    "import pandas as pd"
   ]
  },
  {
   "cell_type": "code",
   "execution_count": 22,
   "metadata": {},
   "outputs": [],
   "source": [
    "dataset = pd.read_csv('WorldCupsClean.csv')"
   ]
  },
  {
   "cell_type": "code",
   "execution_count": 23,
   "metadata": {
    "scrolled": true
   },
   "outputs": [
    {
     "name": "stdout",
     "output_type": "stream",
     "text": [
      "    Year       Country      Winner      Runners-Up        Third  \\\n",
      "0   1930       Uruguay     Uruguay       Argentina          USA   \n",
      "1   1934         Italy       Italy  Czechoslovakia      Germany   \n",
      "2   1938        France       Italy         Hungary       Brazil   \n",
      "3   1950        Brazil     Uruguay          Brazil       Sweden   \n",
      "4   1954   Switzerland  Germany FR         Hungary      Austria   \n",
      "5   1958        Sweden      Brazil          Sweden       France   \n",
      "6   1962         Chile      Brazil  Czechoslovakia        Chile   \n",
      "7   1966       England     England      Germany FR     Portugal   \n",
      "8   1970        Mexico      Brazil           Italy   Germany FR   \n",
      "9   1974       Germany  Germany FR     Netherlands       Poland   \n",
      "10  1978     Argentina   Argentina     Netherlands       Brazil   \n",
      "11  1982         Spain       Italy      Germany FR       Poland   \n",
      "12  1986        Mexico   Argentina      Germany FR       France   \n",
      "13  1990         Italy  Germany FR       Argentina        Italy   \n",
      "14  1994           USA      Brazil           Italy       Sweden   \n",
      "15  1998        France      France          Brazil      Croatia   \n",
      "16  2002   Korea/Japan      Brazil         Germany       Turkey   \n",
      "17  2006       Germany       Italy          France      Germany   \n",
      "18  2010  South Africa       Spain     Netherlands      Germany   \n",
      "19  2014        Brazil     Germany       Argentina  Netherlands   \n",
      "\n",
      "            Fourth  GoalsScored  QualifiedTeams  MatchesPlayed  Attendance  \n",
      "0       Yugoslavia           70              13             18      590549  \n",
      "1          Austria           70              16             17      363000  \n",
      "2           Sweden           84              15             18      375700  \n",
      "3            Spain           88              13             22     1045246  \n",
      "4          Uruguay          140              16             26      768607  \n",
      "5       Germany FR          126              16             35      819810  \n",
      "6       Yugoslavia           89              16             32      893172  \n",
      "7     Soviet Union           89              16             32     1563135  \n",
      "8          Uruguay           95              16             32     1603975  \n",
      "9           Brazil           97              16             38     1865753  \n",
      "10           Italy          102              16             38     1545791  \n",
      "11          France          146              24             52     2109723  \n",
      "12         Belgium          132              24             52     2394031  \n",
      "13         England          115              24             52     2516215  \n",
      "14        Bulgaria          141              24             52     3587538  \n",
      "15     Netherlands          171              32             64     2785100  \n",
      "16  Korea Republic          161              32             64     2705197  \n",
      "17        Portugal          147              32             64     3359439  \n",
      "18         Uruguay          145              32             64     3178856  \n",
      "19          Brazil          171              32             64     3386810  \n"
     ]
    }
   ],
   "source": [
    "print(dataset)"
   ]
  },
  {
   "cell_type": "code",
   "execution_count": 24,
   "metadata": {},
   "outputs": [],
   "source": [
    "np_dataset = np.array(dataset)"
   ]
  },
  {
   "cell_type": "code",
   "execution_count": 25,
   "metadata": {},
   "outputs": [],
   "source": [
    "np_avg_attendance = np_dataset[:,9] / np_dataset[:,8]"
   ]
  },
  {
   "cell_type": "code",
   "execution_count": 26,
   "metadata": {},
   "outputs": [
    {
     "name": "stdout",
     "output_type": "stream",
     "text": [
      "[32808.27777777778 21352.941176470587 20872.222222222223\n",
      " 47511.181818181816 29561.80769230769 23423.14285714286 27911.625\n",
      " 48847.96875 50124.21875 49098.76315789474 40678.71052631579\n",
      " 40571.596153846156 46039.057692307695 48388.75 68991.11538461539\n",
      " 43517.1875 42268.703125 52491.234375 49669.625 52918.90625]\n"
     ]
    }
   ],
   "source": [
    "print(np_avg_attendance)"
   ]
  },
  {
   "cell_type": "code",
   "execution_count": 27,
   "metadata": {},
   "outputs": [],
   "source": [
    "short_tournie = np_dataset[:,8] > 50"
   ]
  },
  {
   "cell_type": "code",
   "execution_count": 28,
   "metadata": {},
   "outputs": [
    {
     "name": "stdout",
     "output_type": "stream",
     "text": [
      "[False False False False False False False False False False False  True\n",
      "  True  True  True  True  True  True  True  True]\n"
     ]
    }
   ],
   "source": [
    "print(short_tournie)"
   ]
  },
  {
   "cell_type": "code",
   "execution_count": null,
   "metadata": {},
   "outputs": [],
   "source": []
  }
 ],
 "metadata": {
  "kernelspec": {
   "display_name": "Python 3",
   "language": "python",
   "name": "python3"
  },
  "language_info": {
   "codemirror_mode": {
    "name": "ipython",
    "version": 3
   },
   "file_extension": ".py",
   "mimetype": "text/x-python",
   "name": "python",
   "nbconvert_exporter": "python",
   "pygments_lexer": "ipython3",
   "version": "3.6.5"
  },
  "widgets": {
   "application/vnd.jupyter.widget-state+json": {
    "state": {},
    "version_major": 2,
    "version_minor": 0
   }
  }
 },
 "nbformat": 4,
 "nbformat_minor": 2
}
