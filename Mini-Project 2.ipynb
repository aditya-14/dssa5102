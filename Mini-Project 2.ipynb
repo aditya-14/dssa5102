{
 "cells": [
  {
   "cell_type": "code",
   "execution_count": 1,
   "metadata": {},
   "outputs": [],
   "source": [
    "import requests\n",
    "import pandas as pd\n",
    "import sqlite3\n",
    "import lxml.html"
   ]
  },
  {
   "cell_type": "code",
   "execution_count": 2,
   "metadata": {},
   "outputs": [],
   "source": [
    "r = requests.get(\"https://projects.fivethirtyeight.com/global-club-soccer-rankings/\")"
   ]
  },
  {
   "cell_type": "code",
   "execution_count": 3,
   "metadata": {},
   "outputs": [],
   "source": [
    "html = lxml.html.fromstring(r.text)\n",
    "rank_table = html.get_element_by_id(\"all-teams-table\")\n",
    "table_head = rank_table.getchildren()[0].getchildren()\n",
    "header = rank_table.getchildren()[0].getchildren()[1]\n",
    "table_body = rank_table.getchildren()[1].getchildren()"
   ]
  },
  {
   "cell_type": "code",
   "execution_count": 4,
   "metadata": {},
   "outputs": [],
   "source": [
    "data = {\n",
    "    \"rank\": [],\n",
    "    \"change\": [],\n",
    "    \"team\": [],\n",
    "    \"league\": [],\n",
    "    \"country\": [],\n",
    "    \"spi\": []\n",
    "}"
   ]
  },
  {
   "cell_type": "code",
   "execution_count": 5,
   "metadata": {},
   "outputs": [],
   "source": [
    "for row in table_body:\n",
    "    data[\"rank\"].append(row[0].text_content().strip())\n",
    "    data[\"change\"].append(row[1].text_content().strip())\n",
    "    data[\"team\"].append(row[2].text_content().strip())\n",
    "    data[\"league\"].append(row[3].text_content().strip())\n",
    "    data[\"country\"].append(row[4].text_content().strip())\n",
    "    data[\"spi\"].append(row[7].text_content().strip())"
   ]
  },
  {
   "cell_type": "code",
   "execution_count": 6,
   "metadata": {},
   "outputs": [],
   "source": [
    "df = pd.DataFrame(data)"
   ]
  },
  {
   "cell_type": "code",
   "execution_count": 7,
   "metadata": {},
   "outputs": [
    {
     "data": {
      "text/plain": [
       "Super League             40\n",
       "Superliga                38\n",
       "Premier League           36\n",
       "USL Championship         36\n",
       "Bundesliga               30\n",
       "Championship             24\n",
       "League Two               24\n",
       "Major League Soccer      24\n",
       "League One               24\n",
       "La Liga 2                22\n",
       "Serie A                  20\n",
       "La Liga                  20\n",
       "Serie B                  20\n",
       "Ligue 1                  20\n",
       "Brasileirão              20\n",
       "Liga MX                  20\n",
       "Ligue 2                  20\n",
       "Süper Lig                19\n",
       "2. Bundesliga            18\n",
       "J1 League                18\n",
       "Eredivisie               18\n",
       "Primeira Liga            18\n",
       "Premier Division         16\n",
       "Eliteserien              16\n",
       "Allsvenskan              16\n",
       "UEFA Europa League       16\n",
       "First Division A         16\n",
       "Premiership              12\n",
       "A-League                 10\n",
       "UEFA Champions League     1\n",
       "Name: league, dtype: int64"
      ]
     },
     "execution_count": 7,
     "metadata": {},
     "output_type": "execute_result"
    }
   ],
   "source": [
    "df.league.value_counts()"
   ]
  },
  {
   "cell_type": "code",
   "execution_count": 8,
   "metadata": {},
   "outputs": [
    {
     "name": "stdout",
     "output_type": "stream",
     "text": [
      "('1', '', 'Man. City', 'Premier League', 'England', '94.2')\n",
      "('3', '', 'Liverpool', 'Premier League', 'England', '92.4')\n",
      "('7', '-1', 'Chelsea', 'Premier League', 'England', '85.9')\n",
      "('9', '-1', 'Tottenham', 'Premier League', 'England', '85.1')\n",
      "('17', '', 'Man. United', 'Premier League', 'England', '80.0')\n",
      "('18', '', 'Arsenal', 'Premier League', 'England', '79.7')\n",
      "('20', '-1', 'Everton', 'Premier League', 'England', '78.7')\n",
      "('27', '-1', 'Leicester', 'Premier League', 'England', '75.3')\n",
      "('30', '+1', 'Wolves', 'Premier League', 'England', '74.0')\n",
      "('43', '+3', 'Crystal Palace', 'Premier League', 'England', '71.0')\n",
      "('48', '+5', 'Newcastle', 'Premier League', 'England', '70.3')\n",
      "('53', '+1', 'West Ham', 'Premier League', 'England', '70.0')\n",
      "('54', '+1', 'Bournemouth', 'Premier League', 'England', '69.6')\n",
      "('58', '+3', 'Southampton', 'Premier League', 'England', '68.6')\n",
      "('62', '+3', 'Watford', 'Premier League', 'England', '67.6')\n",
      "('63', '+4', 'Burnley', 'Premier League', 'England', '67.6')\n",
      "('80', '+5', 'Aston Villa', 'Premier League', 'England', '64.6')\n",
      "('95', '+6', 'Norwich', 'Premier League', 'England', '63.1')\n",
      "('99', '+1', 'Brighton', 'Premier League', 'England', '62.7')\n",
      "('105', '+3', 'Sheffield Utd', 'Premier League', 'England', '61.8')\n"
     ]
    }
   ],
   "source": [
    "english_league = df[(df.league==\"Premier League\") & (df.country==\"England\")]\n",
    "\n",
    "for row in english_league.itertuples():\n",
    "    print(row[1:])"
   ]
  },
  {
   "cell_type": "code",
   "execution_count": 9,
   "metadata": {},
   "outputs": [],
   "source": [
    "db = sqlite3.connect(\":memory:\")\n",
    "cursor = db.cursor()\n",
    "cursor.execute(\"\"\"\n",
    "    CREATE TABLE ENGLISH_LEAGUE(RANK, CHANGE, TEAM, LEAGUE, COUNTRY, SPI)\n",
    "\"\"\")\n",
    "\n",
    "for row in df[(df.league==\"Premier League\") & (df.country==\"England\")].itertuples():\n",
    "    insert_sql_syntax = \"\"\"\n",
    "        INSERT INTO ENGLISH_LEAGUE(RANK, CHANGE, TEAM, LEAGUE, COUNTRY, SPI)\n",
    "        VALUES(?,?,?,?,?,?)\n",
    "    \"\"\"\n",
    "    cursor.execute(insert_sql_syntax, row[1:])\n",
    "    \n",
    "db.commit() "
   ]
  },
  {
   "cell_type": "code",
   "execution_count": 10,
   "metadata": {},
   "outputs": [
    {
     "name": "stdout",
     "output_type": "stream",
     "text": [
      "('1', '', 'Man. City', 'Premier League', 'England', '94.2')\n",
      "('3', '', 'Liverpool', 'Premier League', 'England', '92.4')\n",
      "('7', '-1', 'Chelsea', 'Premier League', 'England', '85.9')\n",
      "('9', '-1', 'Tottenham', 'Premier League', 'England', '85.1')\n",
      "('17', '', 'Man. United', 'Premier League', 'England', '80.0')\n"
     ]
    }
   ],
   "source": [
    "for row in cursor.execute(\"\"\"\n",
    "    SELECT *\n",
    "    FROM ENGLISH_LEAGUE\n",
    "    WHERE\n",
    "    SPI >= \"80\"\n",
    "\"\"\"):\n",
    "    print(row)"
   ]
  },
  {
   "cell_type": "code",
   "execution_count": 11,
   "metadata": {},
   "outputs": [],
   "source": [
    "db.close()"
   ]
  },
  {
   "cell_type": "code",
   "execution_count": null,
   "metadata": {},
   "outputs": [],
   "source": []
  }
 ],
 "metadata": {
  "kernelspec": {
   "display_name": "Python 3",
   "language": "python",
   "name": "python3"
  },
  "language_info": {
   "codemirror_mode": {
    "name": "ipython",
    "version": 3
   },
   "file_extension": ".py",
   "mimetype": "text/x-python",
   "name": "python",
   "nbconvert_exporter": "python",
   "pygments_lexer": "ipython3",
   "version": "3.6.8"
  }
 },
 "nbformat": 4,
 "nbformat_minor": 2
}
